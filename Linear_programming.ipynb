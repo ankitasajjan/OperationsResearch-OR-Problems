{
  "nbformat": 4,
  "nbformat_minor": 0,
  "metadata": {
    "colab": {
      "name": "Linear_programming.ipynb",
      "provenance": [],
      "collapsed_sections": [],
      "authorship_tag": "ABX9TyMSG7DIOYdlXp16A/jYAj2N",
      "include_colab_link": true
    },
    "kernelspec": {
      "name": "python3",
      "display_name": "Python 3"
    },
    "language_info": {
      "name": "python"
    }
  },
  "cells": [
    {
      "cell_type": "markdown",
      "metadata": {
        "id": "view-in-github",
        "colab_type": "text"
      },
      "source": [
        "<a href=\"https://colab.research.google.com/github/ankitasajjan/OperationsResearch-OR-Problems/blob/main/Linear_programming.ipynb\" target=\"_parent\"><img src=\"https://colab.research.google.com/assets/colab-badge.svg\" alt=\"Open In Colab\"/></a>"
      ]
    },
    {
      "cell_type": "code",
      "execution_count": 1,
      "metadata": {
        "colab": {
          "base_uri": "https://localhost:8080/",
          "height": 87
        },
        "id": "pw1AaV8SQ2MF",
        "outputId": "11670342-c75b-4681-ac16-22e2986765e1"
      },
      "outputs": [
        {
          "output_type": "execute_result",
          "data": {
            "text/plain": [
              "'\\nA house wife wishes to mix two types of food F1 and F2 in such a way that the\\nvitamin contents of the mixture contain at least 8 units of vitamin A and 11 units of vitamin B. Food F1 costs\\nE60/Kg and Food F2 costs E80/kg. Food F1 contains 3 units/kg of vitamin A and 5 units/kg of vitamin B while\\nFood F2 contains 4 units/kg of vitamin A and 2 units/kg of vitamin B. Formulate this problem as a linear\\nprogramming problem to minimize the cost of the mixtures,\\nS o u r c e : h t t p : / / www. ma t h s . u n p .a c .z a/ c o ur s ewo r k/ ma t h 3 3 1 / 2 0 1 2 / li n ea r p ro g r ammi n g . p d f\\n'"
            ],
            "application/vnd.google.colaboratory.intrinsic+json": {
              "type": "string"
            }
          },
          "metadata": {},
          "execution_count": 1
        }
      ],
      "source": [
        "\"\"\"\n",
        "LINEAR PROGRAMMING (MINIMIZATION PROBLEM)\n",
        "\n",
        "A house wife wishes to mix two types of food F1 and F2 in such a way that the\n",
        "vitamin contents of the mixture contain at least 8 units of vitamin A and 11 units of vitamin B. Food F1 costs\n",
        "E60/Kg and Food F2 costs E80/kg. Food F1 contains 3 units/kg of vitamin A and 5 units/kg of vitamin B while\n",
        "Food F2 contains 4 units/kg of vitamin A and 2 units/kg of vitamin B. Formulate this problem as a linear\n",
        "programming problem to minimize the cost of the mixtures\n",
        "\n",
        "\"\"\""
      ]
    },
    {
      "cell_type": "code",
      "source": [
        "# Formulation of LP equation:\n",
        "\"\"\"\n",
        "Minimize: C = 60X + 80Y\n",
        "\n",
        "Subject to: 3X + 4Y ≥ 8\n",
        "            5X + 2Y ≥ 11\n",
        "            X ≥ 0 , \n",
        "            Y ≥ 0\n",
        "\"\"\""
      ],
      "metadata": {
        "colab": {
          "base_uri": "https://localhost:8080/",
          "height": 35
        },
        "id": "ZulCHyTRXwhR",
        "outputId": "bc2e939e-7b8d-4104-94b4-a378d9dfe51c"
      },
      "execution_count": 2,
      "outputs": [
        {
          "output_type": "execute_result",
          "data": {
            "text/plain": [
              "'\\nMinimize: C = 60X + 80Y\\nSubject to: 3X + 4Y ≥ 8\\n5X + 2Y ≥ 11\\nX ≥ 0 , Y ≥ 0\\n'"
            ],
            "application/vnd.google.colaboratory.intrinsic+json": {
              "type": "string"
            }
          },
          "metadata": {},
          "execution_count": 2
        }
      ]
    },
    {
      "cell_type": "code",
      "source": [
        "# solution of LP problem using python codes\n",
        "# import scipy package\n",
        "from scipy.optimize import linprog"
      ],
      "metadata": {
        "id": "Ol32TYI2YY1t"
      },
      "execution_count": 3,
      "outputs": []
    },
    {
      "cell_type": "code",
      "source": [
        "obj =[60,80]        # coefficients of the objective function\n",
        "lhs =[[3,4], [5,2]] # coefficients of the LHS(inequaities)\n",
        "rhs = [7,10]        # coefficients of the RHS(inequaities) [7 & 10 as linprog function in python doesnot allow greater than and eaqual to constraints]"
      ],
      "metadata": {
        "id": "C1loRiOTZUmp"
      },
      "execution_count": 32,
      "outputs": []
    },
    {
      "cell_type": "code",
      "source": [
        "#boundary of the decision variable\n",
        "bnd = [(0,float('inf')), (0,float('inf'))]"
      ],
      "metadata": {
        "id": "E_9lGQIlabPN"
      },
      "execution_count": 33,
      "outputs": []
    },
    {
      "cell_type": "code",
      "source": [
        "# optimizing LP using simplex method\n",
        "optimization = linprog(c = obj , A_ub = lhs, b_ub = rhs,\n",
        "                       bounds = bnd, method = 'simplex')\n",
        "\n",
        "optimization"
      ],
      "metadata": {
        "colab": {
          "base_uri": "https://localhost:8080/"
        },
        "id": "bSYiMYfOauHg",
        "outputId": "158d39db-e183-4779-eda4-142a4af20a23"
      },
      "execution_count": 31,
      "outputs": [
        {
          "output_type": "execute_result",
          "data": {
            "text/plain": [
              "     con: array([], dtype=float64)\n",
              "     fun: 0.0\n",
              " message: 'Optimization terminated successfully.'\n",
              "     nit: 4\n",
              "   slack: array([ 7., 10.])\n",
              "  status: 0\n",
              " success: True\n",
              "       x: array([0., 0.])"
            ]
          },
          "metadata": {},
          "execution_count": 31
        }
      ]
    },
    {
      "cell_type": "code",
      "source": [
        "obj =[60,80]        # coefficients of the objective function\n",
        "lhs =[[3,4], [5,2]] # coefficients of the LHS(inequaities)\n",
        "rhs = [7,10]        # coefficients of the RHS(inequaities) \n",
        "\n",
        "#boundary of the decision variable\n",
        "bnd = [(0,float('inf')), (0,float('inf'))]\n",
        "\n",
        "# optimizing LP using \"interior-point method\" method\n",
        "optimization = linprog(c = obj , A_ub = lhs, b_ub = rhs,\n",
        "                       bounds = bnd, method ='interior-point')\n",
        "\n",
        "optimization\n"
      ],
      "metadata": {
        "colab": {
          "base_uri": "https://localhost:8080/"
        },
        "id": "HqIdwWFpdUt1",
        "outputId": "f9339d41-a48a-4f38-ee07-5508ddab6d84"
      },
      "execution_count": 41,
      "outputs": [
        {
          "output_type": "stream",
          "name": "stderr",
          "text": [
            "/usr/local/lib/python3.7/dist-packages/numpy/core/fromnumeric.py:86: VisibleDeprecationWarning: Creating an ndarray from ragged nested sequences (which is a list-or-tuple of lists-or-tuples-or ndarrays with different lengths or shapes) is deprecated. If you meant to do this, you must specify 'dtype=object' when creating the ndarray.\n",
            "  return ufunc.reduce(obj, axis, dtype, out, **passkwargs)\n"
          ]
        },
        {
          "output_type": "execute_result",
          "data": {
            "text/plain": [
              "     con: array([], dtype=float64)\n",
              "     fun: 5.549831884928032e-09\n",
              " message: 'Optimization terminated successfully.'\n",
              "     nit: 5\n",
              "   slack: array([ 7., 10.])\n",
              "  status: 0\n",
              " success: True\n",
              "       x: array([2.97750424e-11, 4.70416168e-11])"
            ]
          },
          "metadata": {},
          "execution_count": 41
        }
      ]
    },
    {
      "cell_type": "code",
      "source": [
        "obj =[60,80]        # coefficients of the objective function\n",
        "lhs =[[3,4], [5,2]] # coefficients of the LHS(inequaities)\n",
        "rhs = [7,10]        # coefficients of the RHS(inequaities) \n",
        "\n",
        "#boundary of the decision variable\n",
        "bnd = [(0,float('inf')), (0,float('inf'))]\n",
        "\n",
        "# optimizing LP using \"revised simplex\" method\n",
        "optimization = linprog(c = obj , A_ub = lhs, b_ub = rhs,\n",
        "                       bounds = bnd, method = 'revised simplex')\n",
        "optimization"
      ],
      "metadata": {
        "colab": {
          "base_uri": "https://localhost:8080/"
        },
        "id": "XbLnOEEFdf1r",
        "outputId": "5e41a155-a6ad-412f-e970-28fbd73cf877"
      },
      "execution_count": 38,
      "outputs": [
        {
          "output_type": "execute_result",
          "data": {
            "text/plain": [
              "     con: array([], dtype=float64)\n",
              "     fun: 0.0\n",
              " message: 'Optimization terminated successfully.'\n",
              "     nit: 0\n",
              "   slack: array([ 7., 10.])\n",
              "  status: 0\n",
              " success: True\n",
              "       x: array([0., 0.])"
            ]
          },
          "metadata": {},
          "execution_count": 38
        }
      ]
    },
    {
      "cell_type": "code",
      "source": [
        "\"\"\"\n",
        "LINEAR PROGRAMMING (MAXIMIZATION PROBLEM)\n",
        "A furniture company produces inexpensive tables and chairs. The production process for each is similar in that\n",
        "both require a certain number of hours of carpentry work and a certain number of labour hours in the painting\n",
        "department. Each table takes 4 hours of carpentry and 2 hours in the painting department. Each chair requires 3\n",
        "hours of carpentry and 1 hour in the painting department. During the current production period, 240 hours of\n",
        "carpentry time are available and 100 hours in painting is available. Each table sold yields a profit of E7; each\n",
        "chair produced is sold for a E5 profit. Find the best combination of tables and chairs to manufacture in order to\n",
        "reach the maximum profit.\n",
        "\n",
        "\"\"\""
      ],
      "metadata": {
        "id": "4pyNHLnKkAsY"
      },
      "execution_count": null,
      "outputs": []
    },
    {
      "cell_type": "code",
      "source": [
        "# Formulation of LP equation:\n",
        "\"\"\"\n",
        "Maximize: P = 7X + 5Y\n",
        "Subject to: 4X + 3Y ≤ 240\n",
        "2X + Y ≤ 100\n",
        "X ≥ 0 , Y ≥ 0\n",
        "\n",
        "convert into minimization problem as python inbuild function doesnot deal with maximization problem\n",
        "\n",
        "  Minimize: -P = -7X - 5Y\n",
        "  Subject to: 4X + 3Y ≤ 240\n",
        "              2X + Y ≤ 100\n",
        "              X ≥ 0 , Y ≥ 0\n",
        "\"\"\""
      ],
      "metadata": {
        "colab": {
          "base_uri": "https://localhost:8080/",
          "height": 53
        },
        "id": "A5B5e3gZkJ5T",
        "outputId": "4e4ce373-cf00-42e5-a09e-8e3d33204bbb"
      },
      "execution_count": 42,
      "outputs": [
        {
          "output_type": "execute_result",
          "data": {
            "text/plain": [
              "'\\nMaximize: P = 7X + 5Y\\nSubject to: 4X + 3Y ≤ 240\\n2X + Y ≤ 100\\nX ≥ 0 , Y ≥ 0\\n\\nconvert into minimization problem as python inbuild function doesnot deal with maximization problem\\n\\n  Minimize: P = -7X + -5Y\\n  Subject to: 4X + 3Y ≤ 240\\n              2X + Y ≤ 100\\n              X ≥ 0 , Y ≥ 0\\n'"
            ],
            "application/vnd.google.colaboratory.intrinsic+json": {
              "type": "string"
            }
          },
          "metadata": {},
          "execution_count": 42
        }
      ]
    },
    {
      "cell_type": "code",
      "source": [
        "obj =[-7, -5]        # coefficients of the objective function\n",
        "lhs =[[4,3], [2,1]] # coefficients of the LHS(inequaities)\n",
        "rhs = [240,100]        # coefficients of the RHS(inequaities) \n",
        "\n",
        "#boundary of the decision variable\n",
        "bnd = [(0,float('inf')), (0,float('inf'))]\n",
        "\n",
        "# optimizing LP using \"simplex\" method\n",
        "optimization = linprog(c = obj , A_ub = lhs, b_ub = rhs,\n",
        "                       bounds = bnd, method = 'simplex')\n",
        "optimization"
      ],
      "metadata": {
        "colab": {
          "base_uri": "https://localhost:8080/"
        },
        "id": "6WOtO40Rk-3H",
        "outputId": "5b8b269e-c590-46c3-e4ba-3f56d508db63"
      },
      "execution_count": 43,
      "outputs": [
        {
          "output_type": "execute_result",
          "data": {
            "text/plain": [
              "     con: array([], dtype=float64)\n",
              "     fun: -410.0\n",
              " message: 'Optimization terminated successfully.'\n",
              "     nit: 2\n",
              "   slack: array([0., 0.])\n",
              "  status: 0\n",
              " success: True\n",
              "       x: array([30., 40.])"
            ]
          },
          "metadata": {},
          "execution_count": 43
        }
      ]
    },
    {
      "cell_type": "code",
      "source": [
        "obj =[-7, -5]        # coefficients of the objective function\n",
        "lhs =[[4,3], [2,1]] # coefficients of the LHS(inequaities)\n",
        "rhs = [240,100]        # coefficients of the RHS(inequaities) \n",
        "\n",
        "#boundary of the decision variable\n",
        "bnd = [(0,float('inf')), (0,float('inf'))]\n",
        "\n",
        "# optimizing LP using \"revised simplex\" method\n",
        "optimization = linprog(c = obj , A_ub = lhs, b_ub = rhs,\n",
        "                       bounds = bnd, method = 'revised simplex')\n",
        "optimization"
      ],
      "metadata": {
        "colab": {
          "base_uri": "https://localhost:8080/"
        },
        "id": "7vKX6bgGlyHI",
        "outputId": "30dbfd62-830b-49e1-9e16-39480d67f01e"
      },
      "execution_count": 44,
      "outputs": [
        {
          "output_type": "execute_result",
          "data": {
            "text/plain": [
              "     con: array([], dtype=float64)\n",
              "     fun: -410.0\n",
              " message: 'Optimization terminated successfully.'\n",
              "     nit: 2\n",
              "   slack: array([0., 0.])\n",
              "  status: 0\n",
              " success: True\n",
              "       x: array([30., 40.])"
            ]
          },
          "metadata": {},
          "execution_count": 44
        }
      ]
    },
    {
      "cell_type": "code",
      "source": [
        "obj =[-7, -5]        # coefficients of the objective function\n",
        "lhs =[[4,3], [2,1]] # coefficients of the LHS(inequaities)\n",
        "rhs = [240,100]        # coefficients of the RHS(inequaities) \n",
        "\n",
        "#boundary of the decision variable\n",
        "bnd = [(0,float('inf')), (0,float('inf'))]\n",
        "\n",
        "# optimizing LP using \"interior-point\" method\n",
        "optimization = linprog(c = obj , A_ub = lhs, b_ub = rhs,\n",
        "                       bounds = bnd, method = 'interior-point')\n",
        "optimization"
      ],
      "metadata": {
        "colab": {
          "base_uri": "https://localhost:8080/"
        },
        "id": "XzYsEGRUl3xj",
        "outputId": "6f769806-d34c-4e81-95a1-fa65dd6e32dc"
      },
      "execution_count": 45,
      "outputs": [
        {
          "output_type": "stream",
          "name": "stderr",
          "text": [
            "/usr/local/lib/python3.7/dist-packages/numpy/core/fromnumeric.py:86: VisibleDeprecationWarning: Creating an ndarray from ragged nested sequences (which is a list-or-tuple of lists-or-tuples-or ndarrays with different lengths or shapes) is deprecated. If you meant to do this, you must specify 'dtype=object' when creating the ndarray.\n",
            "  return ufunc.reduce(obj, axis, dtype, out, **passkwargs)\n"
          ]
        },
        {
          "output_type": "execute_result",
          "data": {
            "text/plain": [
              "     con: array([], dtype=float64)\n",
              "     fun: -409.99999962710336\n",
              " message: 'Optimization terminated successfully.'\n",
              "     nit: 5\n",
              "   slack: array([2.18131959e-07, 9.13973395e-08])\n",
              "  status: 0\n",
              " success: True\n",
              "       x: array([29.99999997, 39.99999996])"
            ]
          },
          "metadata": {},
          "execution_count": 45
        }
      ]
    }
  ]
}